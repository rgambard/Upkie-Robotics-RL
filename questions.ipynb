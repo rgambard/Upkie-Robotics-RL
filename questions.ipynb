{
 "cells": [
  {
   "cell_type": "markdown",
   "metadata": {},
   "source": [
    "# Ne pas lancer, ça plante"
   ]
  },
  {
   "cell_type": "code",
   "execution_count": null,
   "metadata": {},
   "outputs": [],
   "source": [
    "import gymnasium as gym\n",
    "import numpy as np\n",
    "import upkie.envs"
   ]
  },
  {
   "cell_type": "markdown",
   "metadata": {},
   "source": [
    "# Question 2"
   ]
  },
  {
   "cell_type": "code",
   "execution_count": null,
   "metadata": {},
   "outputs": [],
   "source": [
    "upkie.envs.register()\n",
    "\n",
    "with gym.make(\"UpkieGroundVelocity-v3\", frequency=200.0) as env:\n",
    "    observation, _ = env.reset()\n",
    "    gain = np.array([20.0, 0.0, 0.0, 0.0])\n",
    "    for step in range(1_000_000):\n",
    "        action = gain.dot(observation).reshape((1,))\n",
    "        observation, reward, terminated, truncated, _ = env.step(action)\n",
    "        if terminated or truncated:\n",
    "            observation,_ = env.reset()"
   ]
  },
  {
   "cell_type": "markdown",
   "metadata": {},
   "source": [
    "# Question 3\n",
    "\n",
    "La MSFOS est de 10 N."
   ]
  },
  {
   "cell_type": "code",
   "execution_count": null,
   "metadata": {},
   "outputs": [],
   "source": [
    "upkie.envs.register()\n",
    "\n",
    "with gym.make(\"UpkieGroundVelocity-v3\", frequency=200.0) as env:\n",
    "    torso_force_in_world = np.zeros(3)\n",
    "    bullet_action = {\n",
    "        \"external_forces\": {\n",
    "            \"torso\": {\n",
    "                \"force\": torso_force_in_world,\n",
    "                \"local\": False,\n",
    "            }\n",
    "        }\n",
    "    }\n",
    "    observation, _ = env.reset()\n",
    "    gain = np.array([20.0, 0.0, 0.0, 0.0])\n",
    "    for step in range(1_000_000):\n",
    "        action = gain.dot(observation).reshape((1,))\n",
    "        observation, reward, terminated, truncated, _ = env.step(action)\n",
    "        if step>=100 and step<=300:\n",
    "            torso_force_in_world[0] = 10\n",
    "        else:\n",
    "            torso_force_in_world[0] = 0\n",
    "        env.bullet_extra(bullet_action)\n",
    "        if terminated or truncated:\n",
    "            break\n",
    "            observation,_ = env.reset()"
   ]
  }
 ],
 "metadata": {
  "kernelspec": {
   "display_name": "robotics_course",
   "language": "python",
   "name": "python3"
  },
  "language_info": {
   "codemirror_mode": {
    "name": "ipython",
    "version": 3
   },
   "file_extension": ".py",
   "mimetype": "text/x-python",
   "name": "python",
   "nbconvert_exporter": "python",
   "pygments_lexer": "ipython3",
   "version": "3.10.15"
  }
 },
 "nbformat": 4,
 "nbformat_minor": 2
}
