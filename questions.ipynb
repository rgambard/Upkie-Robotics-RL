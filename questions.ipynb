{
 "cells": [
  {
   "cell_type": "markdown",
   "metadata": {},
   "source": [
    "# Ne pas lancer, ça plante"
   ]
  },
  {
   "cell_type": "code",
   "execution_count": null,
   "metadata": {},
   "outputs": [],
   "source": [
    "import gymnasium as gym\n",
    "import numpy as np\n",
    "import upkie.envs"
   ]
  },
  {
   "cell_type": "markdown",
   "metadata": {},
   "source": [
    "# Question 2"
   ]
  },
  {
   "cell_type": "code",
   "execution_count": null,
   "metadata": {},
   "outputs": [],
   "source": [
    "upkie.envs.register()\n",
    "\n",
    "with gym.make(\"UpkieGroundVelocity-v3\", frequency=200.0) as env:\n",
    "    observation, _ = env.reset()\n",
    "    gain = np.array([20.0, 0.0, 0.0, 0.0])\n",
    "    for step in range(1_000_000):\n",
    "        action = gain.dot(observation).reshape((1,))\n",
    "        observation, reward, terminated, truncated, _ = env.step(action)\n",
    "        if terminated or truncated:\n",
    "            observation,_ = env.reset()"
   ]
  },
  {
   "cell_type": "markdown",
   "metadata": {},
   "source": [
    "# Question 3\n",
    "\n",
    "La MSFOS est de 10 N."
   ]
  },
  {
   "cell_type": "code",
   "execution_count": null,
   "metadata": {},
   "outputs": [],
   "source": [
    "upkie.envs.register()\n",
    "\n",
    "with gym.make(\"UpkieGroundVelocity-v3\", frequency=200.0) as env:\n",
    "    torso_force_in_world = np.zeros(3)\n",
    "    bullet_action = {\n",
    "        \"external_forces\": {\n",
    "            \"torso\": {\n",
    "                \"force\": torso_force_in_world,\n",
    "                \"local\": False,\n",
    "            }\n",
    "        }\n",
    "    }\n",
    "    observation, _ = env.reset()\n",
    "    gain = np.array([20.0, 0.0, 0.0, 0.0])\n",
    "    for step in range(1_000_000):\n",
    "        action = gain.dot(observation).reshape((1,))\n",
    "        observation, reward, terminated, truncated, _ = env.step(action)\n",
    "        if step>=100 and step<=300:\n",
    "            torso_force_in_world[0] = 10\n",
    "        else:\n",
    "            torso_force_in_world[0] = 0\n",
    "        env.bullet_extra(bullet_action)\n",
    "        if terminated or truncated:\n",
    "            break\n",
    "            observation,_ = env.reset()"
   ]
  },
  {
   "cell_type": "markdown",
   "metadata": {},
   "source": [
    "# Question 4\n",
    "\n",
    "La MSFOS est de 12 N."
   ]
  },
  {
   "cell_type": "code",
   "execution_count": null,
   "metadata": {},
   "outputs": [],
   "source": [
    "import gymnasium as gym\n",
    "import numpy as np\n",
    "import upkie.envs\n",
    "\n",
    "upkie.envs.register()\n",
    "\n",
    "with gym.make(\"UpkieGroundVelocity-v3\", frequency=200.0) as env:\n",
    "    torso_force_in_world = np.zeros(3)\n",
    "    bullet_action = {\n",
    "        \"external_forces\": {\n",
    "            \"torso\": {\n",
    "                \"force\": torso_force_in_world,\n",
    "                \"local\": False,\n",
    "            }\n",
    "        }\n",
    "    }\n",
    "    observation, _ = env.reset()\n",
    "    gain = np.array([30.0, 1.0, 0.0, 0.1])\n",
    "    for step in range(1_000_000):\n",
    "        action = gain.dot(observation).reshape((1,))\n",
    "        observation, reward, terminated, truncated, _ = env.step(action)\n",
    "        if step>=100 and step<=300:\n",
    "            torso_force_in_world[0] = 11\n",
    "        else:\n",
    "            torso_force_in_world[0] = 0\n",
    "        env.bullet_extra(bullet_action)\n",
    "        if terminated or truncated:\n",
    "            break\n",
    "            observation,_ = env.reset()\n"
   ]
  },
  {
   "cell_type": "markdown",
   "metadata": {},
   "source": [
    "# Question 5\n",
    "\n",
    "La MSFOS est de 11 N. Donnez les raisons pour."
   ]
  },
  {
   "cell_type": "code",
   "execution_count": null,
   "metadata": {},
   "outputs": [],
   "source": [
    "def run_policy(env: gym.Wrapper, policy) -> None:\n",
    "    \"\"\"!\n",
    "    Run the policy on a given environment.\n",
    "\n",
    "    @param env Upkie environment, wrapped by the agent.\n",
    "    @param policy MLP policy to follow.\n",
    "    \"\"\"\n",
    "    action = np.zeros(env.action_space.shape)\n",
    "    torso_force_in_world = np.zeros(3)\n",
    "    bullet_action = {\n",
    "        \"external_forces\": {\n",
    "            \"torso\": {\n",
    "                \"force\": torso_force_in_world,\n",
    "                \"local\": False,\n",
    "            }\n",
    "        }\n",
    "    }\n",
    "    observation, info = env.reset()\n",
    "    frequency = env.frequency\n",
    "    reward = 0.0\n",
    "    count = 0\n",
    "    while True:\n",
    "        if count > 200 and count <= 200+frequency:\n",
    "            torso_force_in_world[0] = 10\n",
    "        else:\n",
    "            torso_force_in_world[0] = 0\n",
    "        env.bullet_extra(bullet_action)\n",
    "        count+=1\n",
    "        action, _ = policy.predict(observation, deterministic=True)\n",
    "        tip_position, tip_velocity = get_tip_state(observation[-1])\n",
    "        env.unwrapped.log(\"action\", action)\n",
    "        env.unwrapped.log(\"observation\", observation[-1])\n",
    "        env.unwrapped.log(\"reward\", reward)\n",
    "        env.unwrapped.log(\"tip_position\", tip_position)\n",
    "        env.unwrapped.log(\"tip_velocity\", tip_velocity)\n",
    "        observation, reward, terminated, truncated, info = env.step(action)\n",
    "        if terminated or truncated:\n",
    "            break\n",
    "            observation, info = env.reset()"
   ]
  },
  {
   "cell_type": "markdown",
   "metadata": {},
   "source": [
    "# Question 6\n",
    "\n",
    "Best number is 10 for the Telecom CPUs"
   ]
  },
  {
   "cell_type": "markdown",
   "metadata": {},
   "source": [
    "# Question 7\n",
    "\n",
    "MSFOS est 12, même s'il finit par tomber, car il tient bien plus d'une seconde"
   ]
  }
 ],
 "metadata": {
  "kernelspec": {
   "display_name": "robotics_course",
   "language": "python",
   "name": "python3"
  },
  "language_info": {
   "codemirror_mode": {
    "name": "ipython",
    "version": 3
   },
   "file_extension": ".py",
   "mimetype": "text/x-python",
   "name": "python",
   "nbconvert_exporter": "python",
   "pygments_lexer": "ipython3",
   "version": "3.10.15"
  }
 },
 "nbformat": 4,
 "nbformat_minor": 2
}
